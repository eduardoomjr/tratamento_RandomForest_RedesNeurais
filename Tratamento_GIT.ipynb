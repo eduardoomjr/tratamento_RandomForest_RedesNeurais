{
 "cells": [
  {
   "cell_type": "code",
   "execution_count": 83,
   "id": "4de2a704-1371-4f21-96ef-da72b9a30c68",
   "metadata": {},
   "outputs": [],
   "source": [
    "import pandas as pd\n",
    "import numpy as np\n",
    "import seaborn as srn\n",
    "import statistics as sts\n",
    "from sklearn.preprocessing import LabelEncoder\n",
    "from sklearn.model_selection import train_test_split\n",
    "from sklearn.metrics import confusion_matrix, accuracy_score\n",
    "from sklearn.ensemble import RandomForestClassifier\n",
    "from sklearn.preprocessing import StandardScaler\n",
    "from keras.models import Sequential\n",
    "from keras.layers import Dense\n",
    "from keras.utils import np_utils\n",
    "from keras.callbacks import EarlyStopping"
   ]
  },
  {
   "cell_type": "code",
   "execution_count": 58,
   "id": "3cf09059-6696-4817-9d5e-1fb95ce4c16e",
   "metadata": {},
   "outputs": [
    {
     "data": {
      "text/html": [
       "<div>\n",
       "<style scoped>\n",
       "    .dataframe tbody tr th:only-of-type {\n",
       "        vertical-align: middle;\n",
       "    }\n",
       "\n",
       "    .dataframe tbody tr th {\n",
       "        vertical-align: top;\n",
       "    }\n",
       "\n",
       "    .dataframe thead th {\n",
       "        text-align: right;\n",
       "    }\n",
       "</style>\n",
       "<table border=\"1\" class=\"dataframe\">\n",
       "  <thead>\n",
       "    <tr style=\"text-align: right;\">\n",
       "      <th></th>\n",
       "      <th>checking_status</th>\n",
       "      <th>duration</th>\n",
       "      <th>credit_history</th>\n",
       "      <th>purpose</th>\n",
       "      <th>credit_amount</th>\n",
       "      <th>savings_status</th>\n",
       "      <th>employment</th>\n",
       "      <th>installment_commitment</th>\n",
       "      <th>personal_status</th>\n",
       "      <th>other_parties</th>\n",
       "      <th>...</th>\n",
       "      <th>property_magnitude</th>\n",
       "      <th>age</th>\n",
       "      <th>other_payment_plans</th>\n",
       "      <th>housing</th>\n",
       "      <th>existing_credits</th>\n",
       "      <th>job</th>\n",
       "      <th>num_dependents</th>\n",
       "      <th>own_telephone</th>\n",
       "      <th>foreign_worker</th>\n",
       "      <th>class</th>\n",
       "    </tr>\n",
       "  </thead>\n",
       "  <tbody>\n",
       "    <tr>\n",
       "      <th>0</th>\n",
       "      <td>&lt;0</td>\n",
       "      <td>6</td>\n",
       "      <td>'critical/other existing credit'</td>\n",
       "      <td>radio/tv</td>\n",
       "      <td>1169</td>\n",
       "      <td>'no known savings'</td>\n",
       "      <td>&gt;=7</td>\n",
       "      <td>4</td>\n",
       "      <td>'male single'</td>\n",
       "      <td>none</td>\n",
       "      <td>...</td>\n",
       "      <td>'real estate'</td>\n",
       "      <td>67</td>\n",
       "      <td>none</td>\n",
       "      <td>own</td>\n",
       "      <td>2</td>\n",
       "      <td>skilled</td>\n",
       "      <td>1</td>\n",
       "      <td>yes</td>\n",
       "      <td>yes</td>\n",
       "      <td>good</td>\n",
       "    </tr>\n",
       "    <tr>\n",
       "      <th>1</th>\n",
       "      <td>0&lt;=X&lt;200</td>\n",
       "      <td>48</td>\n",
       "      <td>'existing paid'</td>\n",
       "      <td>radio/tv</td>\n",
       "      <td>5951</td>\n",
       "      <td>&lt;100</td>\n",
       "      <td>1&lt;=X&lt;4</td>\n",
       "      <td>2</td>\n",
       "      <td>'female div/dep/mar'</td>\n",
       "      <td>none</td>\n",
       "      <td>...</td>\n",
       "      <td>'real estate'</td>\n",
       "      <td>22</td>\n",
       "      <td>none</td>\n",
       "      <td>own</td>\n",
       "      <td>1</td>\n",
       "      <td>skilled</td>\n",
       "      <td>1</td>\n",
       "      <td>none</td>\n",
       "      <td>yes</td>\n",
       "      <td>bad</td>\n",
       "    </tr>\n",
       "    <tr>\n",
       "      <th>2</th>\n",
       "      <td>'no checking'</td>\n",
       "      <td>12</td>\n",
       "      <td>'critical/other existing credit'</td>\n",
       "      <td>education</td>\n",
       "      <td>2096</td>\n",
       "      <td>&lt;100</td>\n",
       "      <td>4&lt;=X&lt;7</td>\n",
       "      <td>2</td>\n",
       "      <td>'male single'</td>\n",
       "      <td>none</td>\n",
       "      <td>...</td>\n",
       "      <td>'real estate'</td>\n",
       "      <td>49</td>\n",
       "      <td>none</td>\n",
       "      <td>own</td>\n",
       "      <td>1</td>\n",
       "      <td>'unskilled resident'</td>\n",
       "      <td>2</td>\n",
       "      <td>none</td>\n",
       "      <td>yes</td>\n",
       "      <td>good</td>\n",
       "    </tr>\n",
       "    <tr>\n",
       "      <th>3</th>\n",
       "      <td>&lt;0</td>\n",
       "      <td>42</td>\n",
       "      <td>'existing paid'</td>\n",
       "      <td>furniture/equipment</td>\n",
       "      <td>7882</td>\n",
       "      <td>&lt;100</td>\n",
       "      <td>4&lt;=X&lt;7</td>\n",
       "      <td>2</td>\n",
       "      <td>'male single'</td>\n",
       "      <td>guarantor</td>\n",
       "      <td>...</td>\n",
       "      <td>'life insurance'</td>\n",
       "      <td>45</td>\n",
       "      <td>none</td>\n",
       "      <td>'for free'</td>\n",
       "      <td>1</td>\n",
       "      <td>skilled</td>\n",
       "      <td>2</td>\n",
       "      <td>none</td>\n",
       "      <td>yes</td>\n",
       "      <td>good</td>\n",
       "    </tr>\n",
       "    <tr>\n",
       "      <th>4</th>\n",
       "      <td>&lt;0</td>\n",
       "      <td>24</td>\n",
       "      <td>'delayed previously'</td>\n",
       "      <td>'new car'</td>\n",
       "      <td>4870</td>\n",
       "      <td>&lt;100</td>\n",
       "      <td>1&lt;=X&lt;4</td>\n",
       "      <td>3</td>\n",
       "      <td>'male single'</td>\n",
       "      <td>none</td>\n",
       "      <td>...</td>\n",
       "      <td>'no known property'</td>\n",
       "      <td>53</td>\n",
       "      <td>none</td>\n",
       "      <td>'for free'</td>\n",
       "      <td>2</td>\n",
       "      <td>skilled</td>\n",
       "      <td>2</td>\n",
       "      <td>none</td>\n",
       "      <td>yes</td>\n",
       "      <td>bad</td>\n",
       "    </tr>\n",
       "    <tr>\n",
       "      <th>...</th>\n",
       "      <td>...</td>\n",
       "      <td>...</td>\n",
       "      <td>...</td>\n",
       "      <td>...</td>\n",
       "      <td>...</td>\n",
       "      <td>...</td>\n",
       "      <td>...</td>\n",
       "      <td>...</td>\n",
       "      <td>...</td>\n",
       "      <td>...</td>\n",
       "      <td>...</td>\n",
       "      <td>...</td>\n",
       "      <td>...</td>\n",
       "      <td>...</td>\n",
       "      <td>...</td>\n",
       "      <td>...</td>\n",
       "      <td>...</td>\n",
       "      <td>...</td>\n",
       "      <td>...</td>\n",
       "      <td>...</td>\n",
       "      <td>...</td>\n",
       "    </tr>\n",
       "    <tr>\n",
       "      <th>995</th>\n",
       "      <td>'no checking'</td>\n",
       "      <td>12</td>\n",
       "      <td>'existing paid'</td>\n",
       "      <td>furniture/equipment</td>\n",
       "      <td>1736</td>\n",
       "      <td>&lt;100</td>\n",
       "      <td>4&lt;=X&lt;7</td>\n",
       "      <td>3</td>\n",
       "      <td>'female div/dep/mar'</td>\n",
       "      <td>none</td>\n",
       "      <td>...</td>\n",
       "      <td>'real estate'</td>\n",
       "      <td>31</td>\n",
       "      <td>none</td>\n",
       "      <td>own</td>\n",
       "      <td>1</td>\n",
       "      <td>'unskilled resident'</td>\n",
       "      <td>1</td>\n",
       "      <td>none</td>\n",
       "      <td>yes</td>\n",
       "      <td>good</td>\n",
       "    </tr>\n",
       "    <tr>\n",
       "      <th>996</th>\n",
       "      <td>&lt;0</td>\n",
       "      <td>30</td>\n",
       "      <td>'existing paid'</td>\n",
       "      <td>'used car'</td>\n",
       "      <td>3857</td>\n",
       "      <td>&lt;100</td>\n",
       "      <td>1&lt;=X&lt;4</td>\n",
       "      <td>4</td>\n",
       "      <td>'male div/sep'</td>\n",
       "      <td>none</td>\n",
       "      <td>...</td>\n",
       "      <td>'life insurance'</td>\n",
       "      <td>40</td>\n",
       "      <td>none</td>\n",
       "      <td>own</td>\n",
       "      <td>1</td>\n",
       "      <td>'high qualif/self emp/mgmt'</td>\n",
       "      <td>1</td>\n",
       "      <td>yes</td>\n",
       "      <td>yes</td>\n",
       "      <td>good</td>\n",
       "    </tr>\n",
       "    <tr>\n",
       "      <th>997</th>\n",
       "      <td>'no checking'</td>\n",
       "      <td>12</td>\n",
       "      <td>'existing paid'</td>\n",
       "      <td>radio/tv</td>\n",
       "      <td>804</td>\n",
       "      <td>&lt;100</td>\n",
       "      <td>&gt;=7</td>\n",
       "      <td>4</td>\n",
       "      <td>'male single'</td>\n",
       "      <td>none</td>\n",
       "      <td>...</td>\n",
       "      <td>car</td>\n",
       "      <td>38</td>\n",
       "      <td>none</td>\n",
       "      <td>own</td>\n",
       "      <td>1</td>\n",
       "      <td>skilled</td>\n",
       "      <td>1</td>\n",
       "      <td>none</td>\n",
       "      <td>yes</td>\n",
       "      <td>good</td>\n",
       "    </tr>\n",
       "    <tr>\n",
       "      <th>998</th>\n",
       "      <td>&lt;0</td>\n",
       "      <td>45</td>\n",
       "      <td>'existing paid'</td>\n",
       "      <td>radio/tv</td>\n",
       "      <td>1845</td>\n",
       "      <td>&lt;100</td>\n",
       "      <td>1&lt;=X&lt;4</td>\n",
       "      <td>4</td>\n",
       "      <td>'male single'</td>\n",
       "      <td>none</td>\n",
       "      <td>...</td>\n",
       "      <td>'no known property'</td>\n",
       "      <td>23</td>\n",
       "      <td>none</td>\n",
       "      <td>'for free'</td>\n",
       "      <td>1</td>\n",
       "      <td>skilled</td>\n",
       "      <td>1</td>\n",
       "      <td>yes</td>\n",
       "      <td>yes</td>\n",
       "      <td>bad</td>\n",
       "    </tr>\n",
       "    <tr>\n",
       "      <th>999</th>\n",
       "      <td>0&lt;=X&lt;200</td>\n",
       "      <td>45</td>\n",
       "      <td>'critical/other existing credit'</td>\n",
       "      <td>'used car'</td>\n",
       "      <td>4576</td>\n",
       "      <td>100&lt;=X&lt;500</td>\n",
       "      <td>unemployed</td>\n",
       "      <td>3</td>\n",
       "      <td>'male single'</td>\n",
       "      <td>none</td>\n",
       "      <td>...</td>\n",
       "      <td>car</td>\n",
       "      <td>27</td>\n",
       "      <td>none</td>\n",
       "      <td>own</td>\n",
       "      <td>1</td>\n",
       "      <td>skilled</td>\n",
       "      <td>1</td>\n",
       "      <td>none</td>\n",
       "      <td>yes</td>\n",
       "      <td>good</td>\n",
       "    </tr>\n",
       "  </tbody>\n",
       "</table>\n",
       "<p>1000 rows × 21 columns</p>\n",
       "</div>"
      ],
      "text/plain": [
       "    checking_status  duration                    credit_history  \\\n",
       "0                <0         6  'critical/other existing credit'   \n",
       "1          0<=X<200        48                   'existing paid'   \n",
       "2     'no checking'        12  'critical/other existing credit'   \n",
       "3                <0        42                   'existing paid'   \n",
       "4                <0        24              'delayed previously'   \n",
       "..              ...       ...                               ...   \n",
       "995   'no checking'        12                   'existing paid'   \n",
       "996              <0        30                   'existing paid'   \n",
       "997   'no checking'        12                   'existing paid'   \n",
       "998              <0        45                   'existing paid'   \n",
       "999        0<=X<200        45  'critical/other existing credit'   \n",
       "\n",
       "                 purpose  credit_amount      savings_status  employment  \\\n",
       "0               radio/tv           1169  'no known savings'         >=7   \n",
       "1               radio/tv           5951                <100      1<=X<4   \n",
       "2              education           2096                <100      4<=X<7   \n",
       "3    furniture/equipment           7882                <100      4<=X<7   \n",
       "4              'new car'           4870                <100      1<=X<4   \n",
       "..                   ...            ...                 ...         ...   \n",
       "995  furniture/equipment           1736                <100      4<=X<7   \n",
       "996           'used car'           3857                <100      1<=X<4   \n",
       "997             radio/tv            804                <100         >=7   \n",
       "998             radio/tv           1845                <100      1<=X<4   \n",
       "999           'used car'           4576          100<=X<500  unemployed   \n",
       "\n",
       "     installment_commitment       personal_status other_parties  ...  \\\n",
       "0                         4         'male single'          none  ...   \n",
       "1                         2  'female div/dep/mar'          none  ...   \n",
       "2                         2         'male single'          none  ...   \n",
       "3                         2         'male single'     guarantor  ...   \n",
       "4                         3         'male single'          none  ...   \n",
       "..                      ...                   ...           ...  ...   \n",
       "995                       3  'female div/dep/mar'          none  ...   \n",
       "996                       4        'male div/sep'          none  ...   \n",
       "997                       4         'male single'          none  ...   \n",
       "998                       4         'male single'          none  ...   \n",
       "999                       3         'male single'          none  ...   \n",
       "\n",
       "      property_magnitude age  other_payment_plans     housing  \\\n",
       "0          'real estate'  67                 none         own   \n",
       "1          'real estate'  22                 none         own   \n",
       "2          'real estate'  49                 none         own   \n",
       "3       'life insurance'  45                 none  'for free'   \n",
       "4    'no known property'  53                 none  'for free'   \n",
       "..                   ...  ..                  ...         ...   \n",
       "995        'real estate'  31                 none         own   \n",
       "996     'life insurance'  40                 none         own   \n",
       "997                  car  38                 none         own   \n",
       "998  'no known property'  23                 none  'for free'   \n",
       "999                  car  27                 none         own   \n",
       "\n",
       "    existing_credits                          job num_dependents  \\\n",
       "0                  2                      skilled              1   \n",
       "1                  1                      skilled              1   \n",
       "2                  1         'unskilled resident'              2   \n",
       "3                  1                      skilled              2   \n",
       "4                  2                      skilled              2   \n",
       "..               ...                          ...            ...   \n",
       "995                1         'unskilled resident'              1   \n",
       "996                1  'high qualif/self emp/mgmt'              1   \n",
       "997                1                      skilled              1   \n",
       "998                1                      skilled              1   \n",
       "999                1                      skilled              1   \n",
       "\n",
       "     own_telephone foreign_worker class  \n",
       "0              yes            yes  good  \n",
       "1             none            yes   bad  \n",
       "2             none            yes  good  \n",
       "3             none            yes  good  \n",
       "4             none            yes   bad  \n",
       "..             ...            ...   ...  \n",
       "995           none            yes  good  \n",
       "996            yes            yes  good  \n",
       "997           none            yes  good  \n",
       "998            yes            yes   bad  \n",
       "999           none            yes  good  \n",
       "\n",
       "[1000 rows x 21 columns]"
      ]
     },
     "execution_count": 58,
     "metadata": {},
     "output_type": "execute_result"
    }
   ],
   "source": [
    "dados = pd.read_csv(\"Credit.csv\")\n",
    "dados"
   ]
  },
  {
   "cell_type": "code",
   "execution_count": 59,
   "id": "84769791-65fc-4dfe-b5ae-dfebab886a8f",
   "metadata": {},
   "outputs": [
    {
     "data": {
      "text/plain": [
       "checking_status           0\n",
       "duration                  0\n",
       "credit_history            0\n",
       "purpose                   0\n",
       "credit_amount             0\n",
       "savings_status            0\n",
       "employment                0\n",
       "installment_commitment    0\n",
       "personal_status           0\n",
       "other_parties             0\n",
       "residence_since           0\n",
       "property_magnitude        0\n",
       "age                       0\n",
       "other_payment_plans       0\n",
       "housing                   0\n",
       "existing_credits          0\n",
       "job                       0\n",
       "num_dependents            0\n",
       "own_telephone             0\n",
       "foreign_worker            0\n",
       "class                     0\n",
       "dtype: int64"
      ]
     },
     "execution_count": 59,
     "metadata": {},
     "output_type": "execute_result"
    }
   ],
   "source": [
    "dados.isnull().sum()"
   ]
  },
  {
   "cell_type": "code",
   "execution_count": 60,
   "id": "7671c650-15f4-4600-b083-b9c9e0d49f88",
   "metadata": {},
   "outputs": [
    {
     "data": {
      "text/plain": [
       "foreign_worker\n",
       "no      37\n",
       "yes    963\n",
       "dtype: int64"
      ]
     },
     "execution_count": 60,
     "metadata": {},
     "output_type": "execute_result"
    }
   ],
   "source": [
    "dados.groupby(dados[\"checking_status\"]).size()\n",
    "dados.groupby(dados[\"duration\"]).size()\n",
    "dados.groupby(dados[\"credit_history\"]).size()\n",
    "dados.groupby(dados[\"purpose\"]).size()\n",
    "dados.groupby(dados[\"credit_amount\"]).size()\n",
    "dados.groupby(dados[\"savings_status\"]).size()\n",
    "dados.groupby(dados[\"employment\"]).size()\n",
    "dados.groupby(dados[\"installment_commitment\"]).size()\n",
    "dados.groupby(dados[\"personal_status\"]).size()\n",
    "dados.groupby(dados[\"other_parties\"]).size()\n",
    "dados.groupby(dados[\"residence_since\"]).size()\n",
    "dados.groupby(dados[\"property_magnitude\"]).size()\n",
    "dados.groupby(dados[\"age\"]).size()\n",
    "dados.groupby(dados[\"other_payment_plans\"]).size()\n",
    "dados.groupby(dados[\"housing\"]).size()\n",
    "dados.groupby(dados[\"existing_credits\"]).size()\n",
    "dados.groupby(dados[\"job\"]).size()\n",
    "dados.groupby(dados[\"num_dependents\"]).size()\n",
    "dados.groupby(dados[\"own_telephone\"]).size()\n",
    "dados.groupby(dados[\"foreign_worker\"]).size()"
   ]
  },
  {
   "cell_type": "code",
   "execution_count": 61,
   "id": "e9f79645-7132-42b1-8104-f3737a3be4f1",
   "metadata": {},
   "outputs": [],
   "source": [
    "previsores = dados.iloc[:,0:20].values\n",
    "classe = dados.iloc[:,20].values"
   ]
  },
  {
   "cell_type": "code",
   "execution_count": 62,
   "id": "f9afc44c-f81c-4547-b830-dd065b36566f",
   "metadata": {},
   "outputs": [],
   "source": [
    "labelencoder = LabelEncoder()\n",
    "for n in range(20):\n",
    "    previsores[:,n] = labelencoder.fit_transform(previsores[:,n])"
   ]
  },
  {
   "cell_type": "code",
   "execution_count": 63,
   "id": "338bbb6a-127b-457e-a43c-ebaef7d20fb5",
   "metadata": {},
   "outputs": [],
   "source": [
    "X_treinamento, X_teste, y_treinamento, y_teste = train_test_split(previsores,\n",
    "                                                                  classe,\n",
    "                                                                  test_size = 0.2,\n",
    "                                                                  random_state = 0)"
   ]
  },
  {
   "cell_type": "code",
   "execution_count": 64,
   "id": "aa37d0e9-84b6-4c3a-8c6f-6b900b3ac896",
   "metadata": {},
   "outputs": [
    {
     "data": {
      "text/plain": [
       "RandomForestClassifier(n_estimators=500)"
      ]
     },
     "execution_count": 64,
     "metadata": {},
     "output_type": "execute_result"
    }
   ],
   "source": [
    "modelo = RandomForestClassifier(n_estimators = 500)\n",
    "modelo.fit(X_treinamento, y_treinamento)"
   ]
  },
  {
   "cell_type": "code",
   "execution_count": 65,
   "id": "a9d80ee7-f6d4-427a-bbe6-83cc0973b428",
   "metadata": {},
   "outputs": [
    {
     "data": {
      "text/plain": [
       "array([[ 25,  33],\n",
       "       [ 15, 127]], dtype=int64)"
      ]
     },
     "execution_count": 65,
     "metadata": {},
     "output_type": "execute_result"
    }
   ],
   "source": [
    "previsao = modelo.predict(X_teste)\n",
    "confusao = confusion_matrix(y_teste, previsao)\n",
    "confusao"
   ]
  },
  {
   "cell_type": "code",
   "execution_count": 66,
   "id": "e3efb00b-5c9e-44ae-9bb5-d2c7671b8902",
   "metadata": {},
   "outputs": [
    {
     "data": {
      "text/plain": [
       "0.76"
      ]
     },
     "execution_count": 66,
     "metadata": {},
     "output_type": "execute_result"
    }
   ],
   "source": [
    "taxa_acerto = accuracy_score(y_teste, previsao)\n",
    "taxa_acerto"
   ]
  },
  {
   "cell_type": "code",
   "execution_count": null,
   "id": "6246480b-9c8b-4986-8864-571cd678bc17",
   "metadata": {},
   "outputs": [],
   "source": [
    "#Redes Neurais"
   ]
  },
  {
   "cell_type": "code",
   "execution_count": 91,
   "id": "c5d0a635-ff46-4eb9-987b-68d44076e611",
   "metadata": {},
   "outputs": [],
   "source": [
    "classe2 = labelencoder.fit_transform(classe)"
   ]
  },
  {
   "cell_type": "code",
   "execution_count": 92,
   "id": "7c47a3dd-38ff-4368-927a-7bfdd200690e",
   "metadata": {},
   "outputs": [],
   "source": [
    "X_treinamento2, X_teste2, y_treinamento2, y_teste2 = train_test_split(previsores,\n",
    "                                                                  classe2,\n",
    "                                                                  test_size = 0.2,\n",
    "                                                                  random_state = 0)"
   ]
  },
  {
   "cell_type": "code",
   "execution_count": 93,
   "id": "65ace255-3316-4267-9a96-ae822c259faf",
   "metadata": {},
   "outputs": [],
   "source": [
    "sc = StandardScaler()\n",
    "X_treinamento2 = sc.fit_transform(X_treinamento2)\n",
    "X_teste2 = sc.fit_transform(X_teste2)"
   ]
  },
  {
   "cell_type": "code",
   "execution_count": 96,
   "id": "c81333a6-f623-401d-b62d-20e627c00465",
   "metadata": {},
   "outputs": [
    {
     "name": "stdout",
     "output_type": "stream",
     "text": [
      "Epoch 1/1000\n",
      "80/80 [==============================] - 3s 13ms/step - loss: 0.6730 - accuracy: 0.6925 - val_loss: 0.6253 - val_accuracy: 0.7100\n",
      "Epoch 2/1000\n",
      "80/80 [==============================] - 1s 8ms/step - loss: 0.5713 - accuracy: 0.6975 - val_loss: 0.5451 - val_accuracy: 0.7100\n",
      "Epoch 3/1000\n",
      "80/80 [==============================] - 1s 8ms/step - loss: 0.5322 - accuracy: 0.6975 - val_loss: 0.5348 - val_accuracy: 0.7100\n",
      "Epoch 4/1000\n",
      "80/80 [==============================] - 1s 8ms/step - loss: 0.5178 - accuracy: 0.7013 - val_loss: 0.5318 - val_accuracy: 0.7300\n",
      "Epoch 5/1000\n",
      "80/80 [==============================] - 1s 8ms/step - loss: 0.5098 - accuracy: 0.7350 - val_loss: 0.5315 - val_accuracy: 0.7450\n",
      "Epoch 6/1000\n",
      "80/80 [==============================] - 1s 9ms/step - loss: 0.5037 - accuracy: 0.7462 - val_loss: 0.5295 - val_accuracy: 0.7500\n",
      "Epoch 7/1000\n",
      "80/80 [==============================] - 1s 10ms/step - loss: 0.4981 - accuracy: 0.7538 - val_loss: 0.5279 - val_accuracy: 0.7700\n",
      "Epoch 8/1000\n",
      "80/80 [==============================] - 1s 8ms/step - loss: 0.4941 - accuracy: 0.7600 - val_loss: 0.5262 - val_accuracy: 0.7650\n",
      "Epoch 9/1000\n",
      "80/80 [==============================] - 0s 6ms/step - loss: 0.4884 - accuracy: 0.7600 - val_loss: 0.5237 - val_accuracy: 0.7700\n",
      "Epoch 10/1000\n",
      "80/80 [==============================] - 1s 7ms/step - loss: 0.4841 - accuracy: 0.7638 - val_loss: 0.5230 - val_accuracy: 0.7650\n",
      "Epoch 11/1000\n",
      "80/80 [==============================] - 1s 9ms/step - loss: 0.4796 - accuracy: 0.7700 - val_loss: 0.5227 - val_accuracy: 0.7700\n",
      "Epoch 12/1000\n",
      "80/80 [==============================] - 0s 6ms/step - loss: 0.4745 - accuracy: 0.7700 - val_loss: 0.5217 - val_accuracy: 0.7700\n",
      "Epoch 13/1000\n",
      "80/80 [==============================] - 0s 5ms/step - loss: 0.4699 - accuracy: 0.7775 - val_loss: 0.5197 - val_accuracy: 0.7750\n",
      "Epoch 14/1000\n",
      "80/80 [==============================] - 1s 7ms/step - loss: 0.4659 - accuracy: 0.7900 - val_loss: 0.5223 - val_accuracy: 0.7700\n"
     ]
    },
    {
     "data": {
      "text/plain": [
       "<keras.callbacks.History at 0x22bb25deb20>"
      ]
     },
     "execution_count": 96,
     "metadata": {},
     "output_type": "execute_result"
    }
   ],
   "source": [
    "callback = EarlyStopping(monitor=\"val_loss\", patience=1)\n",
    "modeloRN = Sequential()\n",
    "modeloRN.add(Dense(units = 20, kernel_initializer = \"uniform\", activation = \"relu\",\n",
    "                   input_dim = 20))\n",
    "modeloRN.add(Dense(units = 20, kernel_initializer = \"uniform\", activation = \"relu\"))\n",
    "modeloRN.add(Dense(units = 1, kernel_initializer = \"uniform\", activation = \"sigmoid\"))\n",
    "modeloRN.compile(optimizer = \"adam\", loss = \"binary_crossentropy\", metrics = [\"accuracy\"])\n",
    "modeloRN.fit(X_treinamento2, y_treinamento2, batch_size = 10, epochs = 1000,\n",
    "             validation_data = (X_teste2, y_teste2), callbacks = [callback])"
   ]
  },
  {
   "cell_type": "code",
   "execution_count": 98,
   "id": "94091d8c-5749-4a9a-9346-5c9e8585f224",
   "metadata": {},
   "outputs": [
    {
     "name": "stdout",
     "output_type": "stream",
     "text": [
      "7/7 [==============================] - 0s 4ms/step\n"
     ]
    }
   ],
   "source": [
    "previsoesRN = modeloRN.predict(X_teste2)\n",
    "previsoesRN = (previsoesRN > 0.5)"
   ]
  },
  {
   "cell_type": "code",
   "execution_count": 99,
   "id": "86538790-d9cb-4a38-8799-1164d4c40926",
   "metadata": {},
   "outputs": [
    {
     "data": {
      "text/plain": [
       "array([[ 29,  29],\n",
       "       [ 17, 125]], dtype=int64)"
      ]
     },
     "execution_count": 99,
     "metadata": {},
     "output_type": "execute_result"
    }
   ],
   "source": [
    "confusaoRN = confusion_matrix(y_teste2,previsoesRN)\n",
    "confusaoRN"
   ]
  },
  {
   "cell_type": "code",
   "execution_count": 101,
   "id": "6b55d94a-26df-4dae-8313-d71124b36d52",
   "metadata": {},
   "outputs": [
    {
     "data": {
      "text/plain": [
       "0.77"
      ]
     },
     "execution_count": 101,
     "metadata": {},
     "output_type": "execute_result"
    }
   ],
   "source": [
    "taxa_acertoRN = accuracy_score(y_teste2, previsoesRN)\n",
    "taxa_acertoRN"
   ]
  },
  {
   "cell_type": "code",
   "execution_count": null,
   "id": "a00a1c5c-ef5f-44bb-859f-343c0ed707e5",
   "metadata": {},
   "outputs": [],
   "source": []
  }
 ],
 "metadata": {
  "kernelspec": {
   "display_name": "Python 3 (ipykernel)",
   "language": "python",
   "name": "python3"
  },
  "language_info": {
   "codemirror_mode": {
    "name": "ipython",
    "version": 3
   },
   "file_extension": ".py",
   "mimetype": "text/x-python",
   "name": "python",
   "nbconvert_exporter": "python",
   "pygments_lexer": "ipython3",
   "version": "3.9.13"
  }
 },
 "nbformat": 4,
 "nbformat_minor": 5
}
